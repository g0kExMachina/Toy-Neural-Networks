{
 "cells": [
  {
   "cell_type": "markdown",
   "metadata": {},
   "source": [
    "## XOR implemented in a single layer shallow nn\n",
    "\n",
    "This nn build is a takeway from the previous notebook, where we were only able to predict xor test case with accuracy of 50%. Here we will build a shallow nn with and try to improve the accuracy of the predicition. "
   ]
  },
  {
   "cell_type": "code",
   "execution_count": 1,
   "metadata": {},
   "outputs": [],
   "source": [
    "import numpy as np"
   ]
  },
  {
   "cell_type": "code",
   "execution_count": 2,
   "metadata": {},
   "outputs": [],
   "source": [
    "#Create the Dataset. x_orig is the training set. y_orig contains the label\n",
    "\n",
    "x_orig = np.array([[[0],[0]],[[0],[1]], [[1],[0]],[[1],[1]]])\n",
    "y_orig = np.array([[0],[1],[1],[0]])"
   ]
  },
  {
   "cell_type": "code",
   "execution_count": 4,
   "metadata": {},
   "outputs": [],
   "source": [
    "# Change the input to fit the model\n",
    "\n",
    "x = x_orig.reshape(x_orig.shape[0], -1).T\n",
    "\n",
    "y = y_orig.reshape(y_orig.shape[0], -1).T"
   ]
  },
  {
   "cell_type": "code",
   "execution_count": 6,
   "metadata": {},
   "outputs": [],
   "source": [
    "# Setting up the parameters. Here we will use two-layer nn. The hidden layer will be 4 unit.\n",
    "\n",
    "def init_params(n_x,n_h,n_y):\n",
    "    \"\"\"\n",
    "     Arguments:\n",
    "     n_x : the size of the input layer\n",
    "     n_h : the size of the hidden layer\n",
    "     n_y : the size of the output layer\n",
    "     \n",
    "     Will return a dictionary containing the parameters W1, b1, W2, b2\n",
    "    \"\"\"\n",
    "    \n",
    "    np.random.seed(2)\n",
    "    \n",
    "    W1 = np.random.randn(n_h,n_x) * 0.01\n",
    "    b1 = np.zeros((n_h,1))\n",
    "    W2 = np.random.randn(n_y,n_h) * 0.01\n",
    "    b2 = np.zeros(((n_y,1)))\n",
    "    \n",
    "    paramters = {\"W1\": W1,\n",
    "                 \"b1\": b1,\n",
    "                 \"W2\": W2,\n",
    "                 \"b2\": b2\n",
    "                }\n",
    "    \n",
    "    return parameters\n"
   ]
  },
  {
   "cell_type": "code",
   "execution_count": 7,
   "metadata": {},
   "outputs": [],
   "source": [
    "# define Sigmoid function\n",
    "\n",
    "def sigmoid(z):\n",
    "    return 1 / (1 + np.exp(-z))"
   ]
  },
  {
   "cell_type": "code",
   "execution_count": 8,
   "metadata": {},
   "outputs": [],
   "source": [
    "# forward propogation\n",
    "\n",
    "def forward(parameters, X):\n",
    "    W1 = parameters[\"W1\"]\n",
    "    b1 = parameters[\"b1\"]\n",
    "    W2 = parameters[\"W2\"]\n",
    "    b2 = parameters[\"b2\"]\n",
    "    \n",
    "    Z1 = np.dot(W1,X) + b1\n",
    "    A1 = np.tanh(Z1)\n",
    "    Z2 = np.dot(W2,A1) + b2\n",
    "    A2 = sigmoid(Z2)\n",
    "    \n",
    "    cache = {\"Z1\": Z1,\n",
    "             \"A1\": A1,\n",
    "             \"Z2\": Z2,\n",
    "             \"A2\": A2\n",
    "            }\n",
    "    return A2, cache"
   ]
  },
  {
   "cell_type": "code",
   "execution_count": 10,
   "metadata": {},
   "outputs": [],
   "source": [
    "# compute the cost\n",
    "\n",
    "def compute_cost(A2,Y):\n",
    "    logprobs = np.multiply(np.log(A2), Y) + np.multiply((1 - Y), np.log(1 - A2))\n",
    "    cost = - np.sum(logprobs) / m\n",
    "    \n",
    "    return cost"
   ]
  },
  {
   "cell_type": "code",
   "execution_count": 13,
   "metadata": {},
   "outputs": [],
   "source": [
    "# backward propogation\n",
    "\n",
    "def backward(X,Y,parameters,cache):\n",
    "    m = X.shape[1]\n",
    "    \n",
    "    W1 = parameters[\"W1\"]\n",
    "    W2 = parameters[\"W2\"]\n",
    "    A1 = cache[\"A1\"]\n",
    "    A2 = cache[\"A2\"]\n",
    "    \n",
    "    dZ2 = A2 -Y\n",
    "    dW2 = np.dot(dZ2, A1.T) / m \n",
    "    db2 = np.sum(dZ2, axis=1,keepdims=True) / m\n",
    "    dZ1 = np.multiply(np.dot(W2.T,dZ2) , (1 - np.power(A1,2)))\n",
    "    dW1 = np.dot(dZ1,X.T) /m\n",
    "    db1 = np.sum(dZ1,axis=1,keepdims= True)\n",
    "    \n",
    "    grads = {\"dW1\": dW1,\n",
    "             \"db1\": db1,\n",
    "             \"dW2\": dW2,\n",
    "             \"db2\": db2}\n",
    "    \n",
    "    return grads"
   ]
  },
  {
   "cell_type": "code",
   "execution_count": 12,
   "metadata": {},
   "outputs": [],
   "source": [
    "#update parameters\n",
    "\n",
    "def update_parameters(parameters, grads, learning_rate = 1.2):\n",
    "    W1 = parameters[\"W1\"]\n",
    "    b1 = parameters[\"b1\"]\n",
    "    W2 = parameters[\"W2\"]\n",
    "    b2 = parameters[\"b2\"]\n",
    "\n",
    "    dW1 = grads[\"dW1\"]\n",
    "    db1 = grads[\"db1\"]\n",
    "    dW2 = grads[\"dW2\"]\n",
    "    db2 = grads[\"db2\"]\n",
    "\n",
    "    W1 = W1 - ( learning_rate * dW1)\n",
    "    b1 = b1 - ( learning_rate * db1)\n",
    "    W2 = W2 - ( learning_rate * dW2)\n",
    "    b2 = b2 - ( learning_rate * db2)\n",
    "    \n",
    "    parameters = {\"W1\": W1,\n",
    "                  \"b1\": b1,\n",
    "                  \"W2\": W2,\n",
    "                  \"b2\": b2}\n",
    "    \n",
    "    return parameters\n"
   ]
  },
  {
   "cell_type": "code",
   "execution_count": null,
   "metadata": {},
   "outputs": [],
   "source": []
  }
 ],
 "metadata": {
  "kernelspec": {
   "display_name": "Python 3",
   "language": "python",
   "name": "python3"
  },
  "language_info": {
   "codemirror_mode": {
    "name": "ipython",
    "version": 3
   },
   "file_extension": ".py",
   "mimetype": "text/x-python",
   "name": "python",
   "nbconvert_exporter": "python",
   "pygments_lexer": "ipython3",
   "version": "3.6.5"
  }
 },
 "nbformat": 4,
 "nbformat_minor": 2
}
